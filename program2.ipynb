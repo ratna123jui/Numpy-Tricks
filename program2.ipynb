{
 "cells": [
  {
   "cell_type": "markdown",
   "id": "4f3552f5",
   "metadata": {},
   "source": [
    "#list\n",
    "a = \"I am Ratna Akter Jui.I am student of Faridpur Engineeing college\""
   ]
  },
  {
   "cell_type": "markdown",
   "id": "83b506ab",
   "metadata": {},
   "source": [
    "# string"
   ]
  },
  {
   "cell_type": "code",
   "execution_count": 4,
   "id": "adad0fea",
   "metadata": {},
   "outputs": [],
   "source": [
    "a = \"I am Ratna Akter Jui.I am student of Faridpur Engineeing college\""
   ]
  },
  {
   "cell_type": "code",
   "execution_count": 5,
   "id": "2761d66c",
   "metadata": {
    "scrolled": true
   },
   "outputs": [
    {
     "data": {
      "text/plain": [
       "['I',\n",
       " 'am',\n",
       " 'Ratna',\n",
       " 'Akter',\n",
       " 'Jui.I',\n",
       " 'am',\n",
       " 'student',\n",
       " 'of',\n",
       " 'Faridpur',\n",
       " 'Engineeing',\n",
       " 'college']"
      ]
     },
     "execution_count": 5,
     "metadata": {},
     "output_type": "execute_result"
    }
   ],
   "source": [
    "# Broke the string\n",
    "a.split()"
   ]
  },
  {
   "cell_type": "code",
   "execution_count": 6,
   "id": "cec51873",
   "metadata": {},
   "outputs": [],
   "source": [
    "a_test = a.split()"
   ]
  },
  {
   "cell_type": "code",
   "execution_count": 7,
   "id": "01aa4ccf",
   "metadata": {},
   "outputs": [
    {
     "name": "stdout",
     "output_type": "stream",
     "text": [
      "['I', 'am', 'Ratna', 'Akter', 'Jui.I', 'am', 'student', 'of', 'Faridpur', 'Engineeing', 'college']\n"
     ]
    }
   ],
   "source": [
    "#print the list\n",
    "print(a_test)"
   ]
  },
  {
   "cell_type": "markdown",
   "id": "6da3595d",
   "metadata": {},
   "source": [
    "# List"
   ]
  },
  {
   "cell_type": "code",
   "execution_count": 8,
   "id": "8d5c1e72",
   "metadata": {},
   "outputs": [],
   "source": [
    "Names = ['jui','jewel','Ratna','Akter','Rohan','shikder']"
   ]
  },
  {
   "cell_type": "code",
   "execution_count": 9,
   "id": "0a046889",
   "metadata": {},
   "outputs": [
    {
     "name": "stdout",
     "output_type": "stream",
     "text": [
      "jui\n"
     ]
    }
   ],
   "source": [
    "print(Names[0])"
   ]
  },
  {
   "cell_type": "code",
   "execution_count": 10,
   "id": "111c1247",
   "metadata": {},
   "outputs": [
    {
     "name": "stdout",
     "output_type": "stream",
     "text": [
      "jewel\n",
      "Ratna\n",
      "Akter\n",
      "Rohan\n",
      "shikder\n"
     ]
    }
   ],
   "source": [
    "#print the index value\n",
    "print(Names[1])\n",
    "print(Names[2])\n",
    "print(Names[3])\n",
    "print(Names[4])\n",
    "print(Names[5])"
   ]
  },
  {
   "cell_type": "code",
   "execution_count": 11,
   "id": "634e7762",
   "metadata": {},
   "outputs": [
    {
     "name": "stdout",
     "output_type": "stream",
     "text": [
      "['jui', 'jewel', 'Ratna', 'Akter', 'Rohan', 'shikder']\n"
     ]
    }
   ],
   "source": [
    "print(Names)"
   ]
  },
  {
   "cell_type": "code",
   "execution_count": 12,
   "id": "dd639203",
   "metadata": {},
   "outputs": [
    {
     "data": {
      "text/plain": [
       "True"
      ]
     },
     "execution_count": 12,
     "metadata": {},
     "output_type": "execute_result"
    }
   ],
   "source": [
    "#list element in list\n",
    "'jui' in Names"
   ]
  },
  {
   "cell_type": "code",
   "execution_count": 13,
   "id": "063034df",
   "metadata": {},
   "outputs": [
    {
     "data": {
      "text/plain": [
       "False"
      ]
     },
     "execution_count": 13,
     "metadata": {},
     "output_type": "execute_result"
    }
   ],
   "source": [
    "'Japan' in Names"
   ]
  },
  {
   "cell_type": "code",
   "execution_count": 14,
   "id": "8785e623",
   "metadata": {},
   "outputs": [
    {
     "data": {
      "text/plain": [
       "0"
      ]
     },
     "execution_count": 14,
     "metadata": {},
     "output_type": "execute_result"
    }
   ],
   "source": [
    "#print index value\n",
    "Names.index('jui')"
   ]
  },
  {
   "cell_type": "code",
   "execution_count": 15,
   "id": "c97c4994",
   "metadata": {},
   "outputs": [
    {
     "data": {
      "text/plain": [
       "1"
      ]
     },
     "execution_count": 15,
     "metadata": {},
     "output_type": "execute_result"
    }
   ],
   "source": [
    "Names.index('jewel')"
   ]
  },
  {
   "cell_type": "code",
   "execution_count": 16,
   "id": "dd3ea03b",
   "metadata": {},
   "outputs": [
    {
     "data": {
      "text/plain": [
       "'Akter'"
      ]
     },
     "execution_count": 16,
     "metadata": {},
     "output_type": "execute_result"
    }
   ],
   "source": [
    "#print index element\n",
    "Names[3]"
   ]
  },
  {
   "cell_type": "code",
   "execution_count": 17,
   "id": "8ff5e6fc",
   "metadata": {},
   "outputs": [],
   "source": [
    "Names[2]='Jui'"
   ]
  },
  {
   "cell_type": "code",
   "execution_count": 18,
   "id": "59734a9e",
   "metadata": {},
   "outputs": [
    {
     "data": {
      "text/plain": [
       "['jui', 'jewel', 'Jui', 'Akter', 'Rohan', 'shikder']"
      ]
     },
     "execution_count": 18,
     "metadata": {},
     "output_type": "execute_result"
    }
   ],
   "source": [
    "Names"
   ]
  },
  {
   "cell_type": "markdown",
   "id": "4ae7d343",
   "metadata": {},
   "source": [
    "# tuples"
   ]
  },
  {
   "cell_type": "code",
   "execution_count": 19,
   "id": "2dba3946",
   "metadata": {},
   "outputs": [
    {
     "name": "stdout",
     "output_type": "stream",
     "text": [
      "('Ratna', 1, 5, 'jui', 'A')\n"
     ]
    }
   ],
   "source": [
    "\n",
    "tup1=('Ratna',1,5,'jui','A') #insert tupple\n",
    "print(tup1)#print tupple"
   ]
  },
  {
   "cell_type": "code",
   "execution_count": 20,
   "id": "54c60ca0",
   "metadata": {},
   "outputs": [
    {
     "name": "stdout",
     "output_type": "stream",
     "text": [
      "['Ratna', 1, 5, 'jui', 'A']\n",
      "['Ratna', 1, 5, 'akon', 'Jewel', 'A', 'java']\n"
     ]
    }
   ],
   "source": [
    "tup_list=list(tup1) #convert tuple in list\n",
    "print(tup_list)\n",
    "tup_list[3]='Jewel' #inset value in definite index\n",
    "tup_list.append('java') # insert new one element  in list\n",
    "tup_list.insert(3,'akon')# insert multiple element in list\n",
    "print(tup_list)"
   ]
  },
  {
   "cell_type": "code",
   "execution_count": 21,
   "id": "42f6b372",
   "metadata": {},
   "outputs": [
    {
     "name": "stdout",
     "output_type": "stream",
     "text": [
      "('Ratna', 1, 5, 'akon', 'Jewel', 'A', 'java')\n"
     ]
    }
   ],
   "source": [
    "tup2=tuple(tup_list) #convert list into tuple\n",
    "print(tup2) #print tuple"
   ]
  },
  {
   "cell_type": "code",
   "execution_count": 22,
   "id": "2f3f6929",
   "metadata": {},
   "outputs": [
    {
     "name": "stdout",
     "output_type": "stream",
     "text": [
      "['Ratna', 5, 'jui', 'A']\n",
      "('Ratna', 5, 'jui')\n"
     ]
    }
   ],
   "source": [
    "tup_list=list(tup1)\n",
    "tup_list.remove(1) # remove list element\n",
    "print(tup_list)\n",
    "del tup_list[3] #delet tuple list element at specified index\n",
    "tup2=tuple(tup_list)\n",
    "print(tup2)"
   ]
  },
  {
   "cell_type": "markdown",
   "id": "358cee4c",
   "metadata": {},
   "source": [
    "# Array"
   ]
  },
  {
   "cell_type": "code",
   "execution_count": 23,
   "id": "c0284f33",
   "metadata": {},
   "outputs": [],
   "source": [
    "# numpy Array\n",
    "import numpy\n"
   ]
  },
  {
   "cell_type": "code",
   "execution_count": 24,
   "id": "df020f69",
   "metadata": {},
   "outputs": [
    {
     "data": {
      "text/plain": [
       "array([ 3,  5,  8, 11])"
      ]
     },
     "execution_count": 24,
     "metadata": {},
     "output_type": "execute_result"
    }
   ],
   "source": [
    "numpy.array([3,5,8,11]) # diclaration of array"
   ]
  },
  {
   "cell_type": "code",
   "execution_count": 25,
   "id": "81c17d1b",
   "metadata": {},
   "outputs": [
    {
     "data": {
      "text/plain": [
       "array([1., 1., 1., 1., 1.])"
      ]
     },
     "execution_count": 25,
     "metadata": {},
     "output_type": "execute_result"
    }
   ],
   "source": [
    "numpy.ones(5) # print array sequence"
   ]
  },
  {
   "cell_type": "code",
   "execution_count": 26,
   "id": "12219a96",
   "metadata": {},
   "outputs": [
    {
     "data": {
      "text/plain": [
       "array([0., 0., 0.])"
      ]
     },
     "execution_count": 26,
     "metadata": {},
     "output_type": "execute_result"
    }
   ],
   "source": [
    "numpy.zeros(3) # print array 0 sequence"
   ]
  },
  {
   "cell_type": "code",
   "execution_count": 27,
   "id": "33ad9f46",
   "metadata": {},
   "outputs": [
    {
     "data": {
      "text/plain": [
       "array([0, 1, 2, 3, 4, 5])"
      ]
     },
     "execution_count": 27,
     "metadata": {},
     "output_type": "execute_result"
    }
   ],
   "source": [
    "numpy.arange(6) # print consequtive number in array"
   ]
  },
  {
   "cell_type": "code",
   "execution_count": 28,
   "id": "a8f1e727",
   "metadata": {},
   "outputs": [
    {
     "data": {
      "text/plain": [
       "array([ 6,  7,  8,  9, 10, 11])"
      ]
     },
     "execution_count": 28,
     "metadata": {},
     "output_type": "execute_result"
    }
   ],
   "source": [
    "numpy.arange(6,12) #start and end(not inclusive)"
   ]
  },
  {
   "cell_type": "code",
   "execution_count": 29,
   "id": "63fdfb48",
   "metadata": {},
   "outputs": [
    {
     "data": {
      "text/plain": [
       "array([ 6,  8, 10])"
      ]
     },
     "execution_count": 29,
     "metadata": {},
     "output_type": "execute_result"
    }
   ],
   "source": [
    "numpy.arange(6,12,2) # print without upper limit in difference 2"
   ]
  },
  {
   "cell_type": "code",
   "execution_count": 30,
   "id": "939456cb",
   "metadata": {},
   "outputs": [
    {
     "data": {
      "text/plain": [
       "array([ 6.,  9., 12.])"
      ]
     },
     "execution_count": 30,
     "metadata": {},
     "output_type": "execute_result"
    }
   ],
   "source": [
    "numpy.linspace(6,12,3) # print with upper limit"
   ]
  },
  {
   "cell_type": "code",
   "execution_count": 31,
   "id": "0838ef30",
   "metadata": {},
   "outputs": [
    {
     "data": {
      "text/plain": [
       "array([ 6.        ,  6.12244898,  6.24489796,  6.36734694,  6.48979592,\n",
       "        6.6122449 ,  6.73469388,  6.85714286,  6.97959184,  7.10204082,\n",
       "        7.2244898 ,  7.34693878,  7.46938776,  7.59183673,  7.71428571,\n",
       "        7.83673469,  7.95918367,  8.08163265,  8.20408163,  8.32653061,\n",
       "        8.44897959,  8.57142857,  8.69387755,  8.81632653,  8.93877551,\n",
       "        9.06122449,  9.18367347,  9.30612245,  9.42857143,  9.55102041,\n",
       "        9.67346939,  9.79591837,  9.91836735, 10.04081633, 10.16326531,\n",
       "       10.28571429, 10.40816327, 10.53061224, 10.65306122, 10.7755102 ,\n",
       "       10.89795918, 11.02040816, 11.14285714, 11.26530612, 11.3877551 ,\n",
       "       11.51020408, 11.63265306, 11.75510204, 11.87755102, 12.        ])"
      ]
     },
     "execution_count": 31,
     "metadata": {},
     "output_type": "execute_result"
    }
   ],
   "source": [
    "numpy.linspace(6,12) # print all the middle value in two range"
   ]
  },
  {
   "cell_type": "code",
   "execution_count": 32,
   "id": "300d7f74",
   "metadata": {},
   "outputs": [
    {
     "data": {
      "text/plain": [
       "50"
      ]
     },
     "execution_count": 32,
     "metadata": {},
     "output_type": "execute_result"
    }
   ],
   "source": [
    "len(numpy.linspace(6,12)) # print length this two value"
   ]
  },
  {
   "cell_type": "markdown",
   "id": "d2ce9a80",
   "metadata": {},
   "source": [
    "# Array operation\n"
   ]
  },
  {
   "cell_type": "code",
   "execution_count": 33,
   "id": "62e85cda",
   "metadata": {},
   "outputs": [
    {
     "name": "stdout",
     "output_type": "stream",
     "text": [
      "[-1.   -0.75 -0.5  -0.25  0.    0.25  0.5   0.75  1.  ]\n"
     ]
    }
   ],
   "source": [
    "x_array = numpy.linspace(-1,1,9) # declare a array\n",
    "print(x_array)"
   ]
  },
  {
   "cell_type": "code",
   "execution_count": 34,
   "id": "b17f4952",
   "metadata": {},
   "outputs": [],
   "source": [
    "y_array = x_array**2 #multiplication of array"
   ]
  },
  {
   "cell_type": "code",
   "execution_count": 35,
   "id": "52da1777",
   "metadata": {},
   "outputs": [
    {
     "name": "stdout",
     "output_type": "stream",
     "text": [
      "[1.     0.5625 0.25   0.0625 0.     0.0625 0.25   0.5625 1.    ]\n"
     ]
    }
   ],
   "source": [
    "print(y_array) #print array"
   ]
  },
  {
   "cell_type": "code",
   "execution_count": 36,
   "id": "71aca7e6",
   "metadata": {},
   "outputs": [
    {
     "name": "stdout",
     "output_type": "stream",
     "text": [
      "[1.   0.75 0.5  0.25 0.   0.25 0.5  0.75 1.  ]\n"
     ]
    }
   ],
   "source": [
    "z_array =numpy.sqrt(y_array) # square root of array\n",
    "print(z_array)"
   ]
  },
  {
   "cell_type": "code",
   "execution_count": 37,
   "id": "2dfdf3d0",
   "metadata": {},
   "outputs": [
    {
     "name": "stdout",
     "output_type": "stream",
     "text": [
      "[ 0.     -0.1875 -0.25   -0.1875  0.      0.3125  0.75    1.3125  2.    ]\n"
     ]
    }
   ],
   "source": [
    "v_array=x_array+y_array #addition of two array\n",
    "print(v_array)"
   ]
  },
  {
   "cell_type": "code",
   "execution_count": 38,
   "id": "89581ea6",
   "metadata": {},
   "outputs": [
    {
     "name": "stdout",
     "output_type": "stream",
     "text": [
      "[-1.       -0.421875 -0.125    -0.015625  0.        0.015625  0.125\n",
      "  0.421875  1.      ]\n"
     ]
    }
   ],
   "source": [
    "v_array=x_array*y_array #multiplication of two array\n",
    "print(v_array)"
   ]
  },
  {
   "cell_type": "code",
   "execution_count": 39,
   "id": "5ce24b04",
   "metadata": {},
   "outputs": [
    {
     "name": "stdout",
     "output_type": "stream",
     "text": [
      "[-1.         -1.33333333 -2.         -4.                 nan  4.\n",
      "  2.          1.33333333  1.        ]\n"
     ]
    },
    {
     "name": "stderr",
     "output_type": "stream",
     "text": [
      "C:\\Users\\Ratna Akter\\AppData\\Local\\Temp\\ipykernel_13444\\1557063016.py:1: RuntimeWarning: invalid value encountered in true_divide\n",
      "  v_array=x_array/y_array\n"
     ]
    }
   ],
   "source": [
    "v_array=x_array/y_array # division of two array\n",
    "print(v_array)"
   ]
  },
  {
   "cell_type": "markdown",
   "id": "ae80689f",
   "metadata": {},
   "source": [
    "# Dictionaries"
   ]
  },
  {
   "cell_type": "code",
   "execution_count": 40,
   "id": "856aada2",
   "metadata": {},
   "outputs": [
    {
     "data": {
      "text/plain": [
       "{'A': 6, 'B': '1', 'C': [3, 5, 6], 'D': (8, 4, 4), 'E': 5, 'F': 9}"
      ]
     },
     "execution_count": 40,
     "metadata": {},
     "output_type": "execute_result"
    }
   ],
   "source": [
    "dict={\"A\":6,\"B\":\"1\",\"C\":[3,5,6],\"D\":(8,4,4),\"E\":5,\"F\":9} #define any dictionary\n",
    "dict"
   ]
  },
  {
   "cell_type": "code",
   "execution_count": 43,
   "id": "ee081823",
   "metadata": {},
   "outputs": [
    {
     "data": {
      "text/plain": [
       "{'sam': 10, 'ash': [1, 2], 'man': ['asd', 'dfr']}"
      ]
     },
     "execution_count": 43,
     "metadata": {},
     "output_type": "execute_result"
    }
   ],
   "source": [
    "x = { 'sam': 10, 'ash':[1,2],'man':['asd','dfr']}\n",
    "x"
   ]
  },
  {
   "cell_type": "code",
   "execution_count": 44,
   "id": "5ae2ff5e",
   "metadata": {},
   "outputs": [
    {
     "data": {
      "text/plain": [
       "10"
      ]
     },
     "execution_count": 44,
     "metadata": {},
     "output_type": "execute_result"
    }
   ],
   "source": [
    "x['sam'] #print any keyword value"
   ]
  },
  {
   "cell_type": "code",
   "execution_count": 45,
   "id": "0d37f9b3",
   "metadata": {},
   "outputs": [
    {
     "data": {
      "text/plain": [
       "dict_keys(['sam', 'ash', 'man'])"
      ]
     },
     "execution_count": 45,
     "metadata": {},
     "output_type": "execute_result"
    }
   ],
   "source": [
    "x.keys() # print dictionary keywords"
   ]
  },
  {
   "cell_type": "code",
   "execution_count": 46,
   "id": "28da49f2",
   "metadata": {},
   "outputs": [
    {
     "data": {
      "text/plain": [
       "dict_values([10, [1, 2], ['asd', 'dfr']])"
      ]
     },
     "execution_count": 46,
     "metadata": {},
     "output_type": "execute_result"
    }
   ],
   "source": [
    "x.values() # print dictionary value"
   ]
  },
  {
   "cell_type": "code",
   "execution_count": 47,
   "id": "c2402e81",
   "metadata": {},
   "outputs": [
    {
     "data": {
      "text/plain": [
       "{'sam': 10, 'ash': [1, 2], 'man': ['asd', 'dfr'], 'Aziz': 2019}"
      ]
     },
     "execution_count": 47,
     "metadata": {},
     "output_type": "execute_result"
    }
   ],
   "source": [
    "x['Aziz'] = 2019 #add dictionary value\n",
    "x"
   ]
  },
  {
   "cell_type": "code",
   "execution_count": 49,
   "id": "04275a25",
   "metadata": {},
   "outputs": [
    {
     "data": {
      "text/plain": [
       "{'B': '1', 'C': [3, 5, 6], 'D': (8, 4, 4), 'E': 5, 'F': 9}"
      ]
     },
     "execution_count": 49,
     "metadata": {},
     "output_type": "execute_result"
    }
   ],
   "source": [
    "del dict['A'] # dectionary delet\n",
    "dict"
   ]
  },
  {
   "cell_type": "code",
   "execution_count": 50,
   "id": "e8974b79",
   "metadata": {},
   "outputs": [
    {
     "data": {
      "text/plain": [
       "True"
      ]
     },
     "execution_count": 50,
     "metadata": {},
     "output_type": "execute_result"
    }
   ],
   "source": [
    "'sam' in x"
   ]
  },
  {
   "cell_type": "code",
   "execution_count": 51,
   "id": "9809e734",
   "metadata": {},
   "outputs": [
    {
     "data": {
      "text/plain": [
       "False"
      ]
     },
     "execution_count": 51,
     "metadata": {},
     "output_type": "execute_result"
    }
   ],
   "source": [
    "'saim' in x # saim is in present dictionary"
   ]
  },
  {
   "cell_type": "code",
   "execution_count": 52,
   "id": "f9754a0c",
   "metadata": {},
   "outputs": [
    {
     "data": {
      "text/plain": [
       "4"
      ]
     },
     "execution_count": 52,
     "metadata": {},
     "output_type": "execute_result"
    }
   ],
   "source": [
    "len(x)  #find the length of dictionary"
   ]
  },
  {
   "cell_type": "code",
   "execution_count": 53,
   "id": "c1c7ab86",
   "metadata": {},
   "outputs": [
    {
     "data": {
      "text/plain": [
       "{'name': 'jui', 'age': 23}"
      ]
     },
     "execution_count": 53,
     "metadata": {},
     "output_type": "execute_result"
    }
   ],
   "source": [
    "# add two dictionary\n",
    "y ={ 'name':'jui','age':23}\n",
    "y"
   ]
  },
  {
   "cell_type": "code",
   "execution_count": 56,
   "id": "f837beaf",
   "metadata": {},
   "outputs": [
    {
     "data": {
      "text/plain": [
       "{'sam': 10,\n",
       " 'ash': [1, 2],\n",
       " 'man': ['asd', 'dfr'],\n",
       " 'Aziz': 2019,\n",
       " 'name': 'jui',\n",
       " 'age': 23}"
      ]
     },
     "execution_count": 56,
     "metadata": {},
     "output_type": "execute_result"
    }
   ],
   "source": [
    "x.update(y) #update value of y in x\n",
    "x"
   ]
  },
  {
   "cell_type": "code",
   "execution_count": 57,
   "id": "44adfcd8",
   "metadata": {},
   "outputs": [
    {
     "data": {
      "text/plain": [
       "{}"
      ]
     },
     "execution_count": 57,
     "metadata": {},
     "output_type": "execute_result"
    }
   ],
   "source": [
    "#clear the dictionry\n",
    "y.clear()\n",
    "y"
   ]
  },
  {
   "cell_type": "markdown",
   "id": "ba7ca9f8",
   "metadata": {},
   "source": [
    "# Set"
   ]
  },
  {
   "cell_type": "code",
   "execution_count": 59,
   "id": "d8602752",
   "metadata": {},
   "outputs": [
    {
     "name": "stdout",
     "output_type": "stream",
     "text": [
      "{1, 2, 3, 4, 5}\n"
     ]
    }
   ],
   "source": [
    "s1 = set([1,2,3,4,5]) # diclare the set\n",
    "print(s1)"
   ]
  },
  {
   "cell_type": "code",
   "execution_count": 60,
   "id": "227f697f",
   "metadata": {},
   "outputs": [
    {
     "name": "stdout",
     "output_type": "stream",
     "text": [
      "{1, 2, 3, 4, 5, 6}\n"
     ]
    }
   ],
   "source": [
    "s1.add(6) # add a element\n",
    "print(s1)"
   ]
  },
  {
   "cell_type": "code",
   "execution_count": 62,
   "id": "c589bd60",
   "metadata": {},
   "outputs": [
    {
     "name": "stdout",
     "output_type": "stream",
     "text": [
      "{1, 2, 3, 4, 5, 6, 7, 8, 9, 10}\n"
     ]
    }
   ],
   "source": [
    "s1.update({7,8,9,10}) # update the value\n",
    "print(s1)"
   ]
  },
  {
   "cell_type": "code",
   "execution_count": 67,
   "id": "f07cb834",
   "metadata": {},
   "outputs": [
    {
     "name": "stdout",
     "output_type": "stream",
     "text": [
      "{1, 2, 3, 4, 5, 6, 7, 8, 9, 10}\n"
     ]
    }
   ],
   "source": [
    "s2 =(7,8,9)\n",
    "s1.update({6,7,8},s2) # update s1 set value with s2 value\n",
    "print(s1)"
   ]
  },
  {
   "cell_type": "code",
   "execution_count": 69,
   "id": "af49fdd8",
   "metadata": {},
   "outputs": [
    {
     "name": "stdout",
     "output_type": "stream",
     "text": [
      "{1, 2, 3, 4, 5, 7, 8, 9}\n"
     ]
    }
   ],
   "source": [
    "s1.remove(10) # remove set element\n",
    "print(s1)"
   ]
  },
  {
   "cell_type": "code",
   "execution_count": 71,
   "id": "a481aba1",
   "metadata": {},
   "outputs": [
    {
     "name": "stdout",
     "output_type": "stream",
     "text": [
      "{1, 2, 3, 4, 5, 7, 8, 9}\n"
     ]
    }
   ],
   "source": [
    "s1.discard(10) # dicard the set value\n",
    "print(s1)"
   ]
  },
  {
   "cell_type": "code",
   "execution_count": 72,
   "id": "11132ecb",
   "metadata": {},
   "outputs": [
    {
     "name": "stdout",
     "output_type": "stream",
     "text": [
      "{8, 9, 7}\n"
     ]
    }
   ],
   "source": [
    "s3 =(11,12,13)\n",
    "s4= s1.intersection(s2) #interset the two set\n",
    "print(s4)"
   ]
  },
  {
   "cell_type": "code",
   "execution_count": 73,
   "id": "0d0fb634",
   "metadata": {},
   "outputs": [
    {
     "name": "stdout",
     "output_type": "stream",
     "text": [
      "{1, 2, 3, 4, 5}\n"
     ]
    }
   ],
   "source": [
    "s4= s1.difference(s2) #difference between two set values\n",
    "print(s4)"
   ]
  },
  {
   "cell_type": "code",
   "execution_count": 76,
   "id": "244c19b8",
   "metadata": {},
   "outputs": [
    {
     "name": "stdout",
     "output_type": "stream",
     "text": [
      "{1, 2, 3, 4, 5}\n"
     ]
    }
   ],
   "source": [
    "s4= s1.symmetric_difference(s2) # symmetric difference value between two set\n",
    "print(s4)"
   ]
  },
  {
   "cell_type": "code",
   "execution_count": 78,
   "id": "9dec20ed",
   "metadata": {},
   "outputs": [
    {
     "name": "stdout",
     "output_type": "stream",
     "text": [
      "{1, 2, 3, 4, 5}\n"
     ]
    }
   ],
   "source": [
    "s4= s1.difference(s3,s2)\n",
    "print(s4)"
   ]
  },
  {
   "cell_type": "code",
   "execution_count": 79,
   "id": "81be94b8",
   "metadata": {},
   "outputs": [
    {
     "name": "stdout",
     "output_type": "stream",
     "text": [
      "[1, 2, 3, 4]\n"
     ]
    }
   ],
   "source": [
    "l1 =[1,2,3,4,1,2,4] #list\n",
    "l2 = list(set(l1)) # remove repeated value from list by set\n",
    "print(l2)"
   ]
  },
  {
   "cell_type": "code",
   "execution_count": 80,
   "id": "1896be06",
   "metadata": {},
   "outputs": [],
   "source": [
    "employees =['jui','nanjiba','jenny']\n",
    "gym_member=['jui','jhumi','sizy']\n",
    "developers =['jui','sumon','rohan','jenny']"
   ]
  },
  {
   "cell_type": "code",
   "execution_count": 85,
   "id": "08f72c1e",
   "metadata": {},
   "outputs": [
    {
     "name": "stdout",
     "output_type": "stream",
     "text": [
      "{'jui'}\n"
     ]
    }
   ],
   "source": [
    "result =set(gym_member).intersection(developers)\n",
    "print(result)"
   ]
  },
  {
   "cell_type": "code",
   "execution_count": 86,
   "id": "330518d4",
   "metadata": {},
   "outputs": [
    {
     "name": "stdout",
     "output_type": "stream",
     "text": [
      "{'sizy', 'jhumi'}\n"
     ]
    }
   ],
   "source": [
    "result= set(gym_member).difference(developers)\n",
    "print(result)"
   ]
  },
  {
   "cell_type": "markdown",
   "id": "8e6e1091",
   "metadata": {},
   "source": [
    "# Data frame"
   ]
  },
  {
   "cell_type": "code",
   "execution_count": 87,
   "id": "0b2dd6bf",
   "metadata": {},
   "outputs": [],
   "source": [
    "import pandas as pa #pandas module\n"
   ]
  },
  {
   "cell_type": "code",
   "execution_count": 89,
   "id": "2e69d4de",
   "metadata": {},
   "outputs": [],
   "source": [
    "from pandas import DataFrame # called DATAFRAME"
   ]
  },
  {
   "cell_type": "code",
   "execution_count": 91,
   "id": "24e53ded",
   "metadata": {},
   "outputs": [],
   "source": [
    "education = {'course':['Engineering','Medicine'],'Job':['Engineer','Doctor']} #declare variable"
   ]
  },
  {
   "cell_type": "code",
   "execution_count": 92,
   "id": "fca90259",
   "metadata": {},
   "outputs": [
    {
     "data": {
      "text/html": [
       "<div>\n",
       "<style scoped>\n",
       "    .dataframe tbody tr th:only-of-type {\n",
       "        vertical-align: middle;\n",
       "    }\n",
       "\n",
       "    .dataframe tbody tr th {\n",
       "        vertical-align: top;\n",
       "    }\n",
       "\n",
       "    .dataframe thead th {\n",
       "        text-align: right;\n",
       "    }\n",
       "</style>\n",
       "<table border=\"1\" class=\"dataframe\">\n",
       "  <thead>\n",
       "    <tr style=\"text-align: right;\">\n",
       "      <th></th>\n",
       "      <th>course</th>\n",
       "      <th>Job</th>\n",
       "    </tr>\n",
       "  </thead>\n",
       "  <tbody>\n",
       "    <tr>\n",
       "      <th>0</th>\n",
       "      <td>Engineering</td>\n",
       "      <td>Engineer</td>\n",
       "    </tr>\n",
       "    <tr>\n",
       "      <th>1</th>\n",
       "      <td>Medicine</td>\n",
       "      <td>Doctor</td>\n",
       "    </tr>\n",
       "  </tbody>\n",
       "</table>\n",
       "</div>"
      ],
      "text/plain": [
       "        course       Job\n",
       "0  Engineering  Engineer\n",
       "1     Medicine    Doctor"
      ]
     },
     "execution_count": 92,
     "metadata": {},
     "output_type": "execute_result"
    }
   ],
   "source": [
    "study = DataFrame(education) #create table\n",
    "study"
   ]
  },
  {
   "cell_type": "code",
   "execution_count": 94,
   "id": "930e3898",
   "metadata": {},
   "outputs": [
    {
     "data": {
      "text/html": [
       "<div>\n",
       "<style scoped>\n",
       "    .dataframe tbody tr th:only-of-type {\n",
       "        vertical-align: middle;\n",
       "    }\n",
       "\n",
       "    .dataframe tbody tr th {\n",
       "        vertical-align: top;\n",
       "    }\n",
       "\n",
       "    .dataframe thead th {\n",
       "        text-align: right;\n",
       "    }\n",
       "</style>\n",
       "<table border=\"1\" class=\"dataframe\">\n",
       "  <thead>\n",
       "    <tr style=\"text-align: right;\">\n",
       "      <th></th>\n",
       "      <th>Job</th>\n",
       "      <th>course</th>\n",
       "    </tr>\n",
       "  </thead>\n",
       "  <tbody>\n",
       "    <tr>\n",
       "      <th>0</th>\n",
       "      <td>Engineer</td>\n",
       "      <td>Engineering</td>\n",
       "    </tr>\n",
       "    <tr>\n",
       "      <th>1</th>\n",
       "      <td>Doctor</td>\n",
       "      <td>Medicine</td>\n",
       "    </tr>\n",
       "  </tbody>\n",
       "</table>\n",
       "</div>"
      ],
      "text/plain": [
       "        Job       course\n",
       "0  Engineer  Engineering\n",
       "1    Doctor     Medicine"
      ]
     },
     "execution_count": 94,
     "metadata": {},
     "output_type": "execute_result"
    }
   ],
   "source": [
    "study = DataFrame(education,columns=['Job','course']) #exchange columns\n",
    "study"
   ]
  },
  {
   "cell_type": "code",
   "execution_count": 96,
   "id": "57349bf4",
   "metadata": {},
   "outputs": [
    {
     "name": "stdout",
     "output_type": "stream",
     "text": [
      "        course       Job\n",
      "a  Engineering  Engineer\n",
      "b     Medicine    Doctor\n"
     ]
    }
   ],
   "source": [
    "new_frame=DataFrame(education,columns=['course','Job'],index=['a','b']) #deffine index value\n",
    "print (new_frame)"
   ]
  },
  {
   "cell_type": "code",
   "execution_count": 97,
   "id": "80c30284",
   "metadata": {},
   "outputs": [
    {
     "data": {
      "text/plain": [
       "a    Engineering\n",
       "b       Medicine\n",
       "Name: course, dtype: object"
      ]
     },
     "execution_count": 97,
     "metadata": {},
     "output_type": "execute_result"
    }
   ],
   "source": [
    "new_frame.course #print column"
   ]
  },
  {
   "cell_type": "code",
   "execution_count": 98,
   "id": "e1d00711",
   "metadata": {},
   "outputs": [
    {
     "data": {
      "text/plain": [
       "a    Engineer\n",
       "b      Doctor\n",
       "Name: Job, dtype: object"
      ]
     },
     "execution_count": 98,
     "metadata": {},
     "output_type": "execute_result"
    }
   ],
   "source": [
    "new_frame.Job"
   ]
  },
  {
   "cell_type": "code",
   "execution_count": 99,
   "id": "0c988cba",
   "metadata": {},
   "outputs": [],
   "source": [
    "new_frame.index.name = 'ID' #define index name"
   ]
  },
  {
   "cell_type": "code",
   "execution_count": 101,
   "id": "e4c3dd37",
   "metadata": {},
   "outputs": [],
   "source": [
    "new_frame.columns.name='Education' #define columns name"
   ]
  },
  {
   "cell_type": "code",
   "execution_count": 102,
   "id": "492098f4",
   "metadata": {},
   "outputs": [
    {
     "data": {
      "text/html": [
       "<div>\n",
       "<style scoped>\n",
       "    .dataframe tbody tr th:only-of-type {\n",
       "        vertical-align: middle;\n",
       "    }\n",
       "\n",
       "    .dataframe tbody tr th {\n",
       "        vertical-align: top;\n",
       "    }\n",
       "\n",
       "    .dataframe thead th {\n",
       "        text-align: right;\n",
       "    }\n",
       "</style>\n",
       "<table border=\"1\" class=\"dataframe\">\n",
       "  <thead>\n",
       "    <tr style=\"text-align: right;\">\n",
       "      <th>Education</th>\n",
       "      <th>course</th>\n",
       "      <th>Job</th>\n",
       "    </tr>\n",
       "    <tr>\n",
       "      <th>ID</th>\n",
       "      <th></th>\n",
       "      <th></th>\n",
       "    </tr>\n",
       "  </thead>\n",
       "  <tbody>\n",
       "    <tr>\n",
       "      <th>a</th>\n",
       "      <td>Engineering</td>\n",
       "      <td>Engineer</td>\n",
       "    </tr>\n",
       "    <tr>\n",
       "      <th>b</th>\n",
       "      <td>Medicine</td>\n",
       "      <td>Doctor</td>\n",
       "    </tr>\n",
       "  </tbody>\n",
       "</table>\n",
       "</div>"
      ],
      "text/plain": [
       "Education       course       Job\n",
       "ID                              \n",
       "a          Engineering  Engineer\n",
       "b             Medicine    Doctor"
      ]
     },
     "execution_count": 102,
     "metadata": {},
     "output_type": "execute_result"
    }
   ],
   "source": [
    "new_frame"
   ]
  },
  {
   "cell_type": "code",
   "execution_count": 103,
   "id": "fab5a76a",
   "metadata": {},
   "outputs": [
    {
     "data": {
      "text/html": [
       "<div>\n",
       "<style scoped>\n",
       "    .dataframe tbody tr th:only-of-type {\n",
       "        vertical-align: middle;\n",
       "    }\n",
       "\n",
       "    .dataframe tbody tr th {\n",
       "        vertical-align: top;\n",
       "    }\n",
       "\n",
       "    .dataframe thead th {\n",
       "        text-align: right;\n",
       "    }\n",
       "</style>\n",
       "<table border=\"1\" class=\"dataframe\">\n",
       "  <thead>\n",
       "    <tr style=\"text-align: right;\">\n",
       "      <th>Education</th>\n",
       "      <th>course</th>\n",
       "      <th>Job</th>\n",
       "      <th>Scope</th>\n",
       "    </tr>\n",
       "    <tr>\n",
       "      <th>ID</th>\n",
       "      <th></th>\n",
       "      <th></th>\n",
       "      <th></th>\n",
       "    </tr>\n",
       "  </thead>\n",
       "  <tbody>\n",
       "    <tr>\n",
       "      <th>a</th>\n",
       "      <td>Engineering</td>\n",
       "      <td>Engineer</td>\n",
       "      <td>False</td>\n",
       "    </tr>\n",
       "    <tr>\n",
       "      <th>b</th>\n",
       "      <td>Medicine</td>\n",
       "      <td>Doctor</td>\n",
       "      <td>True</td>\n",
       "    </tr>\n",
       "  </tbody>\n",
       "</table>\n",
       "</div>"
      ],
      "text/plain": [
       "Education       course       Job  Scope\n",
       "ID                                     \n",
       "a          Engineering  Engineer  False\n",
       "b             Medicine    Doctor   True"
      ]
     },
     "execution_count": 103,
     "metadata": {},
     "output_type": "execute_result"
    }
   ],
   "source": [
    "new_frame['Scope']= new_frame.Job =='Doctor' #define a column for specific raw \n",
    "new_frame"
   ]
  },
  {
   "cell_type": "code",
   "execution_count": null,
   "id": "a79363f8",
   "metadata": {},
   "outputs": [],
   "source": []
  }
 ],
 "metadata": {
  "kernelspec": {
   "display_name": "Python 3 (ipykernel)",
   "language": "python",
   "name": "python3"
  },
  "language_info": {
   "codemirror_mode": {
    "name": "ipython",
    "version": 3
   },
   "file_extension": ".py",
   "mimetype": "text/x-python",
   "name": "python",
   "nbconvert_exporter": "python",
   "pygments_lexer": "ipython3",
   "version": "3.9.12"
  }
 },
 "nbformat": 4,
 "nbformat_minor": 5
}
